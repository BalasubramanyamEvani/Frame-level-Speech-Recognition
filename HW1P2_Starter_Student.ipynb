{
  "cells": [
    {
      "cell_type": "markdown",
      "metadata": {
        "id": "F9ERgBpbcMmB"
      },
      "source": [
        "# HW1: Frame-Level Speech Recognition"
      ]
    },
    {
      "cell_type": "markdown",
      "metadata": {
        "id": "CLkH6GMGcWcE"
      },
      "source": [
        "In this homework, you will be working with MFCC data consisting of 15 features at each time step/frame. Your model should be able to recognize the phoneme occured in that frame."
      ]
    },
    {
      "cell_type": "markdown",
      "metadata": {
        "id": "z4vZbDmJvMp1"
      },
      "source": [
        "# Libraries"
      ]
    },
    {
      "cell_type": "code",
      "execution_count": null,
      "metadata": {
        "colab": {
          "base_uri": "https://localhost:8080/"
        },
        "id": "rwYu9sSUnSho",
        "outputId": "eab480b0-4657-46c6-88c6-6440e63087eb"
      },
      "outputs": [
        {
          "name": "stdout",
          "output_type": "stream",
          "text": [
            "\u001b[K     |████████████████████████████████| 1.8 MB 15.8 MB/s \n",
            "\u001b[K     |████████████████████████████████| 181 kB 77.8 MB/s \n",
            "\u001b[K     |████████████████████████████████| 162 kB 75.6 MB/s \n",
            "\u001b[K     |████████████████████████████████| 63 kB 2.0 MB/s \n",
            "\u001b[K     |████████████████████████████████| 158 kB 84.0 MB/s \n",
            "\u001b[K     |████████████████████████████████| 157 kB 92.7 MB/s \n",
            "\u001b[K     |████████████████████████████████| 157 kB 82.6 MB/s \n",
            "\u001b[K     |████████████████████████████████| 157 kB 79.7 MB/s \n",
            "\u001b[K     |████████████████████████████████| 157 kB 56.9 MB/s \n",
            "\u001b[K     |████████████████████████████████| 157 kB 83.9 MB/s \n",
            "\u001b[K     |████████████████████████████████| 157 kB 59.1 MB/s \n",
            "\u001b[K     |████████████████████████████████| 157 kB 68.1 MB/s \n",
            "\u001b[K     |████████████████████████████████| 156 kB 99.9 MB/s \n",
            "\u001b[?25h  Building wheel for pathtools (setup.py) ... \u001b[?25l\u001b[?25hdone\n"
          ]
        }
      ],
      "source": [
        "!pip install torchsummaryX wandb --quiet"
      ]
    },
    {
      "cell_type": "code",
      "execution_count": null,
      "metadata": {
        "colab": {
          "base_uri": "https://localhost:8080/"
        },
        "id": "_mHEasPCazWr",
        "outputId": "49afe1db-1520-440f-e3cc-20fb74f214b0"
      },
      "outputs": [
        {
          "name": "stdout",
          "output_type": "stream",
          "text": [
            "Wed Sep 28 14:12:25 2022       \n",
            "+-----------------------------------------------------------------------------+\n",
            "| NVIDIA-SMI 460.32.03    Driver Version: 460.32.03    CUDA Version: 11.2     |\n",
            "|-------------------------------+----------------------+----------------------+\n",
            "| GPU  Name        Persistence-M| Bus-Id        Disp.A | Volatile Uncorr. ECC |\n",
            "| Fan  Temp  Perf  Pwr:Usage/Cap|         Memory-Usage | GPU-Util  Compute M. |\n",
            "|                               |                      |               MIG M. |\n",
            "|===============================+======================+======================|\n",
            "|   0  Tesla T4            Off  | 00000000:00:04.0 Off |                    0 |\n",
            "| N/A   39C    P8     9W /  70W |      0MiB / 15109MiB |      0%      Default |\n",
            "|                               |                      |                  N/A |\n",
            "+-------------------------------+----------------------+----------------------+\n",
            "                                                                               \n",
            "+-----------------------------------------------------------------------------+\n",
            "| Processes:                                                                  |\n",
            "|  GPU   GI   CI        PID   Type   Process name                  GPU Memory |\n",
            "|        ID   ID                                                   Usage      |\n",
            "|=============================================================================|\n",
            "|  No running processes found                                                 |\n",
            "+-----------------------------------------------------------------------------+\n"
          ]
        }
      ],
      "source": [
        "!nvidia-smi"
      ]
    },
    {
      "cell_type": "code",
      "execution_count": null,
      "metadata": {
        "colab": {
          "base_uri": "https://localhost:8080/"
        },
        "id": "qI4qfx7tiBZt",
        "outputId": "c72e2e90-af39-43e5-c91d-752f11366c22"
      },
      "outputs": [
        {
          "name": "stdout",
          "output_type": "stream",
          "text": [
            "Device:  cuda\n"
          ]
        }
      ],
      "source": [
        "import torch\n",
        "import numpy as np\n",
        "from torchsummaryX import summary\n",
        "import sklearn\n",
        "import sklearn.metrics\n",
        "import gc\n",
        "import zipfile\n",
        "import pandas as pd\n",
        "# from tqdm.auto import tqdm\n",
        "from tqdm import tqdm\n",
        "import os\n",
        "import datetime\n",
        "import wandb\n",
        "device = 'cuda' if torch.cuda.is_available() else 'cpu'\n",
        "import torch.cuda.amp as amp\n",
        "print(\"Device: \", device)"
      ]
    },
    {
      "cell_type": "code",
      "execution_count": null,
      "metadata": {
        "id": "N-9qE20hmCgQ"
      },
      "outputs": [],
      "source": [
        "### PHONEME LIST\n",
        "PHONEMES = [\n",
        "            'SIL',   'AA',    'AE',    'AH',    'AO',    'AW',    'AY',  \n",
        "            'B',     'CH',    'D',     'DH',    'EH',    'ER',    'EY',\n",
        "            'F',     'G',     'HH',    'IH',    'IY',    'JH',    'K',\n",
        "            'L',     'M',     'N',     'NG',    'OW',    'OY',    'P',\n",
        "            'R',     'S',     'SH',    'T',     'TH',    'UH',    'UW',\n",
        "            'V',     'W',     'Y',     'Z',     'ZH',    '<sos>', '<eos>']"
      ]
    },
    {
      "cell_type": "markdown",
      "metadata": {
        "id": "ZIi0Big7vPa9"
      },
      "source": [
        "# Kaggle"
      ]
    },
    {
      "cell_type": "markdown",
      "metadata": {
        "id": "BBCbeRhixGM7"
      },
      "source": [
        "This section contains code that helps you install kaggle's API, creating kaggle.json with you username and API key details. Make sure to input those in the given code to ensure you can download data from the competition successfully."
      ]
    },
    {
      "cell_type": "code",
      "execution_count": null,
      "metadata": {
        "colab": {
          "base_uri": "https://localhost:8080/"
        },
        "id": "if2Somqfbje1",
        "outputId": "2c61918a-2c34-4300-a626-d60f421278c4"
      },
      "outputs": [
        {
          "name": "stdout",
          "output_type": "stream",
          "text": [
            "Downloading 11-785-f22-hw1p2.zip to /content\n",
            " 99% 2.12G/2.13G [00:08<00:00, 335MB/s]\n",
            "100% 2.13G/2.13G [00:08<00:00, 271MB/s]\n"
          ]
        }
      ],
      "source": [
        "# commands to download data from kaggle\n",
        "\n",
        "!kaggle competitions download -c 11-785-f22-hw1p2\n",
        "!mkdir '/content/data'\n",
        "\n",
        "!unzip -qo '11-785-f22-hw1p2.zip' -d '/content/data'"
      ]
    },
    {
      "cell_type": "markdown",
      "metadata": {
        "id": "Vuzce0_TdcaR"
      },
      "source": [
        "# Dataset"
      ]
    },
    {
      "cell_type": "markdown",
      "metadata": {
        "id": "2_7QgMbBdgPp"
      },
      "source": [
        "This section covers the dataset/dataloader class for speech data. You will have to spend time writing code to create this class successfully. We have given you a lot of comments guiding you on what code to write at each stage, from top to bottom of the class. Please try and take your time figuring this out, as it will immensely help in creating dataset/dataloader classes for future homeworks.\n",
        "\n",
        "Before running the following cells, please take some time to analyse the structure of data. Try loading a single MFCC and its transcipt, print out the shapes and print out the values. Do the transcripts look like phonemes?"
      ]
    },
    {
      "cell_type": "code",
      "execution_count": null,
      "metadata": {
        "id": "YpLCvi3AJC5z"
      },
      "outputs": [],
      "source": [
        "# Dataset class to load train and validation data\n",
        "class AudioDataset(torch.utils.data.Dataset):\n",
        "    def __init__(self, data_path, context, offset=0, partition= \"train\", limit=-1): # Feel free to add more arguments\n",
        "        self.context = context\n",
        "        self.offset = offset\n",
        "        self.data_path = data_path\n",
        "\n",
        "        if partition == \"train\":\n",
        "          self.mfcc_dir = os.path.join(self.data_path, \"train-clean-100\", \"mfcc\") \n",
        "          self.transcript_dir = os.path.join(self.data_path, \"train-clean-100\", \"transcript\")\n",
        "        else:\n",
        "          self.mfcc_dir = os.path.join(self.data_path, \"dev-clean\", \"mfcc\")\n",
        "          self.transcript_dir = os.path.join(self.data_path, \"dev-clean\", \"transcript\")\n",
        "\n",
        "        mfcc_names = sorted(os.listdir(self.mfcc_dir))\n",
        "        transcript_names = sorted(os.listdir(self.transcript_dir))\n",
        "\n",
        "        assert len(mfcc_names) == len(transcript_names) # Making sure that we have the same no. of mfcc and transcripts\n",
        "\n",
        "        self.mfccs, self.transcripts = [], []\n",
        "        eps = 1e-30\n",
        "        # Iterate through mfccs and transcripts\n",
        "        for i in range(0, len(mfcc_names)):\n",
        "            # Load a single mfcc\n",
        "            mfcc = np.load(os.path.join(self.mfcc_dir, mfcc_names[i]))\n",
        "            mfcc_mean = np.mean(mfcc, axis=0)\n",
        "            mfcc_mean = np.tile(mfcc_mean, (mfcc.shape[0], 1))\n",
        "            \n",
        "            mfcc = mfcc - mfcc_mean\n",
        "            \n",
        "            mfcc_stdev = np.std(mfcc, axis=0)\n",
        "            mfcc_stdev = np.tile(mfcc_stdev, (mfcc.shape[0], 1))\n",
        "            \n",
        "            mfcc = mfcc / (mfcc_stdev + eps)\n",
        "\n",
        "            # Load the corresponding transcript\n",
        "            # Remove [SOS] and [EOS] from the transcript (Is there an efficient way to do this \n",
        "            transcript = np.load(os.path.join(self.transcript_dir, transcript_names[i]))[1:-1] \n",
        "            # without traversing through the transcript?)\n",
        "            # Append each mfcc to self.mfcc, transcript to self.transcript\n",
        "            self.mfccs.append(mfcc)\n",
        "            self.transcripts.append(transcript)\n",
        "        \n",
        "        # NOTE:\n",
        "        # Each mfcc is of shape T1 x 15, T2 x 15, ...\n",
        "        # Each transcript is of shape (T1+2) x 15, (T2+2) x 15 before removing [SOS] and [EOS]\n",
        "        self.mfccs = np.concatenate(self.mfccs)\n",
        "\n",
        "        self.transcripts = np.concatenate(self.transcripts)\n",
        "        assert len(self.mfccs) == len(self.transcripts)\n",
        "\n",
        "        # Length of the dataset is now the length of concatenated mfccs/transcripts\n",
        "        self.length = len(self.mfccs)\n",
        "        self.mfccs = np.pad(self.mfccs, ((self.context, self.context), (0, 0)), mode=\"constant\", constant_values=0)\n",
        "        \n",
        "        # These are the available phonemes in the transcript\n",
        "        self.phonemes = [\n",
        "            'SIL',   'AA',    'AE',    'AH',    'AO',    'AW',    'AY',  \n",
        "            'B',     'CH',    'D',     'DH',    'EH',    'ER',    'EY',\n",
        "            'F',     'G',     'HH',    'IH',    'IY',    'JH',    'K',\n",
        "            'L',     'M',     'N',     'NG',    'OW',    'OY',    'P',\n",
        "            'R',     'S',     'SH',    'T',     'TH',    'UH',    'UW',\n",
        "            'V',     'W',     'Y',     'Z',     'ZH',    '<sos>', '<eos>']\n",
        "        \n",
        "        # But the neural network cannot predict strings as such. Instead we map these phonemes to integers\n",
        "        self.transcripts = np.array([self.phonemes.index(phoneme) for phoneme in self.transcripts])\n",
        "        # Now, if an element in self.transcript is 0, it means that it is 'SIL' (as per the above example)\n",
        "        \n",
        "    def __len__(self):\n",
        "        return self.length\n",
        "\n",
        "    def __getitem__(self, ind):\n",
        "        frames = self.mfccs[ind:ind+1+2*self.context]\n",
        "        # After slicing, you get an array of shape 2*context+1 x 15. But our MLP needs 1d data and not 2d.\n",
        "        frames = frames.flatten()\n",
        "        frames = torch.FloatTensor(frames) # Convert to tensors\n",
        "        phoneme = torch.tensor(self.transcripts[ind])       \n",
        "        return frames, phoneme"
      ]
    },
    {
      "cell_type": "code",
      "execution_count": null,
      "metadata": {
        "id": "e8KfVP39S6o7"
      },
      "outputs": [],
      "source": [
        "class AudioTestDataset(torch.utils.data.Dataset):\n",
        "    # Imp: Read the mfccs in sorted order, do NOT shuffle the data here or in your dataloader.\n",
        "    def __init__(self, data_path, context, offset=0):\n",
        "        self.context = context\n",
        "        self.offset = offset\n",
        "        self.data_path = data_path\n",
        "\n",
        "        self.mfcc_dir = os.path.join(self.data_path, \"test-clean\", \"mfcc\")\n",
        "\n",
        "        mfcc_names = sorted(os.listdir(self.mfcc_dir))\n",
        "        self.mfccs = []\n",
        "        eps = 1e-30\n",
        "        \n",
        "        for i in range(0, len(mfcc_names)):\n",
        "            mfcc = np.load(os.path.join(self.mfcc_dir, mfcc_names[i]))\n",
        "            mfcc_mean = np.mean(mfcc, axis=0)\n",
        "            mfcc_mean = np.tile(mfcc_mean, (mfcc.shape[0], 1))\n",
        "            \n",
        "            mfcc = mfcc - mfcc_mean\n",
        "            \n",
        "            mfcc_stdev = np.std(mfcc, axis=0)\n",
        "            mfcc_stdev = np.tile(mfcc_stdev, (mfcc.shape[0], 1))\n",
        "            \n",
        "            mfcc = mfcc / (mfcc_stdev + eps)\n",
        "            self.mfccs.append(mfcc)\n",
        "        \n",
        "        self.mfccs = np.concatenate(self.mfccs)\n",
        "        self.length = len(self.mfccs)\n",
        "        self.mfccs = np.pad(self.mfccs, ((self.context, self.context), (0, 0)), mode=\"constant\", constant_values=0)\n",
        "        \n",
        "    def __len__(self):\n",
        "        return self.length\n",
        "\n",
        "    def __getitem__(self, ind):\n",
        "        frames = self.mfccs[ind:ind+1+2*self.context]\n",
        "        frames = frames.flatten()\n",
        "        frames = torch.FloatTensor(frames)\n",
        "        return frames"
      ]
    },
    {
      "cell_type": "markdown",
      "metadata": {
        "id": "qNacQ8bpt9nw"
      },
      "source": [
        "# Parameters Configuration"
      ]
    },
    {
      "cell_type": "markdown",
      "metadata": {
        "id": "WE7tsinAuLNy"
      },
      "source": [
        "Storing your parameters and hyperparameters in a single configuration dictionary makes it easier to keep track of them during each experiment. It can also be used with weights and biases to log your parameters for each experiment and keep track of them across multiple experiments. "
      ]
    },
    {
      "cell_type": "code",
      "execution_count": null,
      "metadata": {
        "id": "PmKwlFqgt_Zq"
      },
      "outputs": [],
      "source": [
        "config = {\n",
        "    'epochs': 70,\n",
        "    'batch_size' : 4096,\n",
        "    'context' : 28,\n",
        "    'learning_rate' : 0.001,\n",
        "    'architecture' : 'high-cutoff',\n",
        "    'dropout': 0.25,\n",
        "    'step_lr_gamma': 0.55,\n",
        "    'step_lr_step_size': 10,\n",
        "}"
      ]
    },
    {
      "cell_type": "markdown",
      "metadata": {
        "id": "2mlwaKlDt_2c"
      },
      "source": [
        "# Create Datasets"
      ]
    },
    {
      "cell_type": "code",
      "execution_count": null,
      "metadata": {
        "id": "7xi7V8x8W9z4"
      },
      "outputs": [],
      "source": [
        "train_data = AudioDataset(data_path=\"./data\", context=config[\"context\"], offset=0, partition= \"train\", limit=None)\n",
        "val_data = AudioDataset(data_path=\"./data\", context=config[\"context\"], offset=0, partition= \"dev\", limit=None) \n",
        "test_data = AudioTestDataset(data_path=\"./data\", context=config[\"context\"], offset=0)"
      ]
    },
    {
      "cell_type": "code",
      "execution_count": null,
      "metadata": {
        "colab": {
          "base_uri": "https://localhost:8080/"
        },
        "id": "4mzoYfTKu14s",
        "outputId": "9e57b31d-a76c-4c11-cf6a-06a954bb61a9"
      },
      "outputs": [
        {
          "name": "stdout",
          "output_type": "stream",
          "text": [
            "Batch size:  4096\n",
            "Context:  28\n",
            "Input size:  855\n",
            "Output symbols:  42\n",
            "Train dataset samples = 36191134, batches = 8836\n",
            "Validation dataset samples = 1937496, batches = 474\n",
            "Test dataset samples = 1943253, batches = 475\n"
          ]
        }
      ],
      "source": [
        "# Define dataloaders for train, val and test datasets\n",
        "# Dataloaders will yield a batch of frames and phonemes of given batch_size at every iteration\n",
        "train_loader = torch.utils.data.DataLoader(train_data, num_workers=2,\n",
        "                                           batch_size=config['batch_size'], pin_memory= True,\n",
        "                                           shuffle= True)\n",
        "\n",
        "val_loader = torch.utils.data.DataLoader(val_data, num_workers=2,\n",
        "                                         batch_size=config['batch_size'], pin_memory= True,\n",
        "                                         shuffle= False)\n",
        "\n",
        "test_loader = torch.utils.data.DataLoader(test_data, num_workers=2, \n",
        "                                          batch_size=config['batch_size'], pin_memory= True, \n",
        "                                          shuffle= False)\n",
        "\n",
        "\n",
        "print(\"Batch size: \", config['batch_size'])\n",
        "print(\"Context: \", config['context'])\n",
        "print(\"Input size: \", (2*config['context']+1)*15)\n",
        "print(\"Output symbols: \", len(PHONEMES))\n",
        "\n",
        "print(\"Train dataset samples = {}, batches = {}\".format(train_data.__len__(), len(train_loader)))\n",
        "print(\"Validation dataset samples = {}, batches = {}\".format(val_data.__len__(), len(val_loader)))\n",
        "print(\"Test dataset samples = {}, batches = {}\".format(test_data.__len__(), len(test_loader)))"
      ]
    },
    {
      "cell_type": "code",
      "execution_count": null,
      "metadata": {
        "colab": {
          "base_uri": "https://localhost:8080/"
        },
        "id": "n-GV3UvgLSoF",
        "outputId": "d6f78098-9a6e-4043-f231-a5c9ca97c0aa"
      },
      "outputs": [
        {
          "name": "stdout",
          "output_type": "stream",
          "text": [
            "torch.Size([4096, 855]) torch.Size([4096])\n"
          ]
        }
      ],
      "source": [
        "# Testing code to check if your data loaders are working\n",
        "for i, data in enumerate(train_loader):\n",
        "    frames, phoneme = data\n",
        "    print(frames.shape, phoneme.shape)\n",
        "    break"
      ]
    },
    {
      "cell_type": "markdown",
      "metadata": {
        "id": "Nxjwve20JRJ2"
      },
      "source": [
        "# Network Architecture\n"
      ]
    },
    {
      "cell_type": "markdown",
      "metadata": {
        "id": "3NJzT-mRw6iy"
      },
      "source": [
        "This section defines your network architecture for the homework. We have given you a sample architecture that can easily clear the very low cutoff for the early submission deadline."
      ]
    },
    {
      "cell_type": "code",
      "execution_count": null,
      "metadata": {
        "id": "OvcpontXQq9j"
      },
      "outputs": [],
      "source": [
        "class Network(torch.nn.Module):\n",
        "    def __init__(self, context):\n",
        "        super(Network, self).__init__()\n",
        "        input_size = (2*context + 1) * 15 #Why is this the case? # we have 15 feature vectors for each frame\n",
        "        output_size = 40 #Why? #we have a total of 40 phonemes\n",
        "        self.model = torch.nn.Sequential(\n",
        "            torch.nn.Linear(input_size, 2048),\n",
        "            torch.nn.BatchNorm1d(num_features=2048),\n",
        "            torch.nn.GELU(),\n",
        "            torch.nn.Dropout(p=config[\"dropout\"]),\n",
        "            torch.nn.Linear(2048, 2048),\n",
        "            torch.nn.BatchNorm1d(num_features=2048),\n",
        "            torch.nn.GELU(),\n",
        "            torch.nn.Dropout(p=config[\"dropout\"]),\n",
        "            torch.nn.Linear(2048, 2048),\n",
        "            torch.nn.BatchNorm1d(num_features=2048),\n",
        "            torch.nn.GELU(),\n",
        "            torch.nn.Dropout(p=config[\"dropout\"]),\n",
        "            torch.nn.Linear(2048, 2048),\n",
        "            torch.nn.BatchNorm1d(num_features=2048),\n",
        "            torch.nn.GELU(),\n",
        "            torch.nn.Dropout(p=config[\"dropout\"]),\n",
        "            torch.nn.Linear(2048, 1024),\n",
        "            torch.nn.BatchNorm1d(num_features=1024),\n",
        "            torch.nn.GELU(),\n",
        "            torch.nn.Dropout(p=config[\"dropout\"]),\n",
        "            torch.nn.Linear(1024, 1024),\n",
        "            torch.nn.BatchNorm1d(num_features=1024),\n",
        "            torch.nn.GELU(),\n",
        "            torch.nn.Dropout(p=config[\"dropout\"]),\n",
        "            torch.nn.Linear(1024, 1024),\n",
        "            torch.nn.BatchNorm1d(num_features=1024),\n",
        "            torch.nn.GELU(),\n",
        "            torch.nn.Dropout(p=config[\"dropout\"]),\n",
        "            torch.nn.Linear(1024, 1024),\n",
        "            torch.nn.BatchNorm1d(num_features=1024),\n",
        "            torch.nn.GELU(),\n",
        "            torch.nn.Dropout(p=config[\"dropout\"]),\n",
        "            torch.nn.Linear(1024, output_size)\n",
        "        )\n",
        "        self.init_weights()\n",
        "\n",
        "    def init_weights(self):\n",
        "        def init_xavier(module):\n",
        "            if isinstance(module, torch.nn.Linear):\n",
        "                torch.nn.init.xavier_uniform_(module.weight)\n",
        "                module.bias.data.fill_(0)\n",
        "        self.model.apply(init_xavier)\n",
        "\n",
        "    def forward(self, x):\n",
        "        out = self.model(x)\n",
        "        return out"
      ]
    },
    {
      "cell_type": "markdown",
      "metadata": {
        "id": "HejoSXe3vMVU"
      },
      "source": [
        "# Define Model, Loss Function and Optimizer"
      ]
    },
    {
      "cell_type": "markdown",
      "metadata": {
        "id": "xAhGBH7-xxth"
      },
      "source": [
        "Here we define the model, loss function, optimizer and optionally a learning rate scheduler. "
      ]
    },
    {
      "cell_type": "code",
      "execution_count": null,
      "metadata": {
        "colab": {
          "base_uri": "https://localhost:8080/",
          "height": 1000
        },
        "id": "_qtrEM1ZvLje",
        "outputId": "d490ab3f-e79b-406d-9ce5-023e0225b14d"
      },
      "outputs": [
        {
          "name": "stdout",
          "output_type": "stream",
          "text": [
            "=========================================================================\n",
            "                         Kernel Shape  Output Shape     Params  Mult-Adds\n",
            "Layer                                                                    \n",
            "0_model.Linear_0          [855, 2048]  [4096, 2048]  1.753088M   1.75104M\n",
            "1_model.BatchNorm1d_1          [2048]  [4096, 2048]     4.096k     2.048k\n",
            "2_model.GELU_2                      -  [4096, 2048]          -          -\n",
            "3_model.Dropout_3                   -  [4096, 2048]          -          -\n",
            "4_model.Linear_4         [2048, 2048]  [4096, 2048]  4.196352M  4.194304M\n",
            "5_model.BatchNorm1d_5          [2048]  [4096, 2048]     4.096k     2.048k\n",
            "6_model.GELU_6                      -  [4096, 2048]          -          -\n",
            "7_model.Dropout_7                   -  [4096, 2048]          -          -\n",
            "8_model.Linear_8         [2048, 2048]  [4096, 2048]  4.196352M  4.194304M\n",
            "9_model.BatchNorm1d_9          [2048]  [4096, 2048]     4.096k     2.048k\n",
            "10_model.GELU_10                    -  [4096, 2048]          -          -\n",
            "11_model.Dropout_11                 -  [4096, 2048]          -          -\n",
            "12_model.Linear_12       [2048, 2048]  [4096, 2048]  4.196352M  4.194304M\n",
            "13_model.BatchNorm1d_13        [2048]  [4096, 2048]     4.096k     2.048k\n",
            "14_model.GELU_14                    -  [4096, 2048]          -          -\n",
            "15_model.Dropout_15                 -  [4096, 2048]          -          -\n",
            "16_model.Linear_16       [2048, 1024]  [4096, 1024]  2.098176M  2.097152M\n",
            "17_model.BatchNorm1d_17        [1024]  [4096, 1024]     2.048k     1.024k\n",
            "18_model.GELU_18                    -  [4096, 1024]          -          -\n",
            "19_model.Dropout_19                 -  [4096, 1024]          -          -\n",
            "20_model.Linear_20       [1024, 1024]  [4096, 1024]    1.0496M  1.048576M\n",
            "21_model.BatchNorm1d_21        [1024]  [4096, 1024]     2.048k     1.024k\n",
            "22_model.GELU_22                    -  [4096, 1024]          -          -\n",
            "23_model.Dropout_23                 -  [4096, 1024]          -          -\n",
            "24_model.Linear_24       [1024, 1024]  [4096, 1024]    1.0496M  1.048576M\n",
            "25_model.BatchNorm1d_25        [1024]  [4096, 1024]     2.048k     1.024k\n",
            "26_model.GELU_26                    -  [4096, 1024]          -          -\n",
            "27_model.Dropout_27                 -  [4096, 1024]          -          -\n",
            "28_model.Linear_28       [1024, 1024]  [4096, 1024]    1.0496M  1.048576M\n",
            "29_model.BatchNorm1d_29        [1024]  [4096, 1024]     2.048k     1.024k\n",
            "30_model.GELU_30                    -  [4096, 1024]          -          -\n",
            "31_model.Dropout_31                 -  [4096, 1024]          -          -\n",
            "32_model.Linear_32         [1024, 40]    [4096, 40]      41.0k     40.96k\n",
            "-------------------------------------------------------------------------\n",
            "                          Totals\n",
            "Total params          19.654696M\n",
            "Trainable params      19.654696M\n",
            "Non-trainable params         0.0\n",
            "Mult-Adds              19.63008M\n",
            "=========================================================================\n"
          ]
        },
        {
          "name": "stderr",
          "output_type": "stream",
          "text": [
            "/usr/local/lib/python3.7/dist-packages/torchsummaryX/torchsummaryX.py:101: FutureWarning: Dropping of nuisance columns in DataFrame reductions (with 'numeric_only=None') is deprecated; in a future version this will raise TypeError.  Select only valid columns before calling the reduction.\n",
            "  df_sum = df.sum()\n"
          ]
        },
        {
          "data": {
            "text/html": [
              "\n",
              "  <div id=\"df-862ec14b-6f6c-4188-ae5c-3ecef9502435\">\n",
              "    <div class=\"colab-df-container\">\n",
              "      <div>\n",
              "<style scoped>\n",
              "    .dataframe tbody tr th:only-of-type {\n",
              "        vertical-align: middle;\n",
              "    }\n",
              "\n",
              "    .dataframe tbody tr th {\n",
              "        vertical-align: top;\n",
              "    }\n",
              "\n",
              "    .dataframe thead th {\n",
              "        text-align: right;\n",
              "    }\n",
              "</style>\n",
              "<table border=\"1\" class=\"dataframe\">\n",
              "  <thead>\n",
              "    <tr style=\"text-align: right;\">\n",
              "      <th></th>\n",
              "      <th>Kernel Shape</th>\n",
              "      <th>Output Shape</th>\n",
              "      <th>Params</th>\n",
              "      <th>Mult-Adds</th>\n",
              "    </tr>\n",
              "    <tr>\n",
              "      <th>Layer</th>\n",
              "      <th></th>\n",
              "      <th></th>\n",
              "      <th></th>\n",
              "      <th></th>\n",
              "    </tr>\n",
              "  </thead>\n",
              "  <tbody>\n",
              "    <tr>\n",
              "      <th>0_model.Linear_0</th>\n",
              "      <td>[855, 2048]</td>\n",
              "      <td>[4096, 2048]</td>\n",
              "      <td>1753088.0</td>\n",
              "      <td>1751040.0</td>\n",
              "    </tr>\n",
              "    <tr>\n",
              "      <th>1_model.BatchNorm1d_1</th>\n",
              "      <td>[2048]</td>\n",
              "      <td>[4096, 2048]</td>\n",
              "      <td>4096.0</td>\n",
              "      <td>2048.0</td>\n",
              "    </tr>\n",
              "    <tr>\n",
              "      <th>2_model.GELU_2</th>\n",
              "      <td>-</td>\n",
              "      <td>[4096, 2048]</td>\n",
              "      <td>NaN</td>\n",
              "      <td>NaN</td>\n",
              "    </tr>\n",
              "    <tr>\n",
              "      <th>3_model.Dropout_3</th>\n",
              "      <td>-</td>\n",
              "      <td>[4096, 2048]</td>\n",
              "      <td>NaN</td>\n",
              "      <td>NaN</td>\n",
              "    </tr>\n",
              "    <tr>\n",
              "      <th>4_model.Linear_4</th>\n",
              "      <td>[2048, 2048]</td>\n",
              "      <td>[4096, 2048]</td>\n",
              "      <td>4196352.0</td>\n",
              "      <td>4194304.0</td>\n",
              "    </tr>\n",
              "    <tr>\n",
              "      <th>5_model.BatchNorm1d_5</th>\n",
              "      <td>[2048]</td>\n",
              "      <td>[4096, 2048]</td>\n",
              "      <td>4096.0</td>\n",
              "      <td>2048.0</td>\n",
              "    </tr>\n",
              "    <tr>\n",
              "      <th>6_model.GELU_6</th>\n",
              "      <td>-</td>\n",
              "      <td>[4096, 2048]</td>\n",
              "      <td>NaN</td>\n",
              "      <td>NaN</td>\n",
              "    </tr>\n",
              "    <tr>\n",
              "      <th>7_model.Dropout_7</th>\n",
              "      <td>-</td>\n",
              "      <td>[4096, 2048]</td>\n",
              "      <td>NaN</td>\n",
              "      <td>NaN</td>\n",
              "    </tr>\n",
              "    <tr>\n",
              "      <th>8_model.Linear_8</th>\n",
              "      <td>[2048, 2048]</td>\n",
              "      <td>[4096, 2048]</td>\n",
              "      <td>4196352.0</td>\n",
              "      <td>4194304.0</td>\n",
              "    </tr>\n",
              "    <tr>\n",
              "      <th>9_model.BatchNorm1d_9</th>\n",
              "      <td>[2048]</td>\n",
              "      <td>[4096, 2048]</td>\n",
              "      <td>4096.0</td>\n",
              "      <td>2048.0</td>\n",
              "    </tr>\n",
              "    <tr>\n",
              "      <th>10_model.GELU_10</th>\n",
              "      <td>-</td>\n",
              "      <td>[4096, 2048]</td>\n",
              "      <td>NaN</td>\n",
              "      <td>NaN</td>\n",
              "    </tr>\n",
              "    <tr>\n",
              "      <th>11_model.Dropout_11</th>\n",
              "      <td>-</td>\n",
              "      <td>[4096, 2048]</td>\n",
              "      <td>NaN</td>\n",
              "      <td>NaN</td>\n",
              "    </tr>\n",
              "    <tr>\n",
              "      <th>12_model.Linear_12</th>\n",
              "      <td>[2048, 2048]</td>\n",
              "      <td>[4096, 2048]</td>\n",
              "      <td>4196352.0</td>\n",
              "      <td>4194304.0</td>\n",
              "    </tr>\n",
              "    <tr>\n",
              "      <th>13_model.BatchNorm1d_13</th>\n",
              "      <td>[2048]</td>\n",
              "      <td>[4096, 2048]</td>\n",
              "      <td>4096.0</td>\n",
              "      <td>2048.0</td>\n",
              "    </tr>\n",
              "    <tr>\n",
              "      <th>14_model.GELU_14</th>\n",
              "      <td>-</td>\n",
              "      <td>[4096, 2048]</td>\n",
              "      <td>NaN</td>\n",
              "      <td>NaN</td>\n",
              "    </tr>\n",
              "    <tr>\n",
              "      <th>15_model.Dropout_15</th>\n",
              "      <td>-</td>\n",
              "      <td>[4096, 2048]</td>\n",
              "      <td>NaN</td>\n",
              "      <td>NaN</td>\n",
              "    </tr>\n",
              "    <tr>\n",
              "      <th>16_model.Linear_16</th>\n",
              "      <td>[2048, 1024]</td>\n",
              "      <td>[4096, 1024]</td>\n",
              "      <td>2098176.0</td>\n",
              "      <td>2097152.0</td>\n",
              "    </tr>\n",
              "    <tr>\n",
              "      <th>17_model.BatchNorm1d_17</th>\n",
              "      <td>[1024]</td>\n",
              "      <td>[4096, 1024]</td>\n",
              "      <td>2048.0</td>\n",
              "      <td>1024.0</td>\n",
              "    </tr>\n",
              "    <tr>\n",
              "      <th>18_model.GELU_18</th>\n",
              "      <td>-</td>\n",
              "      <td>[4096, 1024]</td>\n",
              "      <td>NaN</td>\n",
              "      <td>NaN</td>\n",
              "    </tr>\n",
              "    <tr>\n",
              "      <th>19_model.Dropout_19</th>\n",
              "      <td>-</td>\n",
              "      <td>[4096, 1024]</td>\n",
              "      <td>NaN</td>\n",
              "      <td>NaN</td>\n",
              "    </tr>\n",
              "    <tr>\n",
              "      <th>20_model.Linear_20</th>\n",
              "      <td>[1024, 1024]</td>\n",
              "      <td>[4096, 1024]</td>\n",
              "      <td>1049600.0</td>\n",
              "      <td>1048576.0</td>\n",
              "    </tr>\n",
              "    <tr>\n",
              "      <th>21_model.BatchNorm1d_21</th>\n",
              "      <td>[1024]</td>\n",
              "      <td>[4096, 1024]</td>\n",
              "      <td>2048.0</td>\n",
              "      <td>1024.0</td>\n",
              "    </tr>\n",
              "    <tr>\n",
              "      <th>22_model.GELU_22</th>\n",
              "      <td>-</td>\n",
              "      <td>[4096, 1024]</td>\n",
              "      <td>NaN</td>\n",
              "      <td>NaN</td>\n",
              "    </tr>\n",
              "    <tr>\n",
              "      <th>23_model.Dropout_23</th>\n",
              "      <td>-</td>\n",
              "      <td>[4096, 1024]</td>\n",
              "      <td>NaN</td>\n",
              "      <td>NaN</td>\n",
              "    </tr>\n",
              "    <tr>\n",
              "      <th>24_model.Linear_24</th>\n",
              "      <td>[1024, 1024]</td>\n",
              "      <td>[4096, 1024]</td>\n",
              "      <td>1049600.0</td>\n",
              "      <td>1048576.0</td>\n",
              "    </tr>\n",
              "    <tr>\n",
              "      <th>25_model.BatchNorm1d_25</th>\n",
              "      <td>[1024]</td>\n",
              "      <td>[4096, 1024]</td>\n",
              "      <td>2048.0</td>\n",
              "      <td>1024.0</td>\n",
              "    </tr>\n",
              "    <tr>\n",
              "      <th>26_model.GELU_26</th>\n",
              "      <td>-</td>\n",
              "      <td>[4096, 1024]</td>\n",
              "      <td>NaN</td>\n",
              "      <td>NaN</td>\n",
              "    </tr>\n",
              "    <tr>\n",
              "      <th>27_model.Dropout_27</th>\n",
              "      <td>-</td>\n",
              "      <td>[4096, 1024]</td>\n",
              "      <td>NaN</td>\n",
              "      <td>NaN</td>\n",
              "    </tr>\n",
              "    <tr>\n",
              "      <th>28_model.Linear_28</th>\n",
              "      <td>[1024, 1024]</td>\n",
              "      <td>[4096, 1024]</td>\n",
              "      <td>1049600.0</td>\n",
              "      <td>1048576.0</td>\n",
              "    </tr>\n",
              "    <tr>\n",
              "      <th>29_model.BatchNorm1d_29</th>\n",
              "      <td>[1024]</td>\n",
              "      <td>[4096, 1024]</td>\n",
              "      <td>2048.0</td>\n",
              "      <td>1024.0</td>\n",
              "    </tr>\n",
              "    <tr>\n",
              "      <th>30_model.GELU_30</th>\n",
              "      <td>-</td>\n",
              "      <td>[4096, 1024]</td>\n",
              "      <td>NaN</td>\n",
              "      <td>NaN</td>\n",
              "    </tr>\n",
              "    <tr>\n",
              "      <th>31_model.Dropout_31</th>\n",
              "      <td>-</td>\n",
              "      <td>[4096, 1024]</td>\n",
              "      <td>NaN</td>\n",
              "      <td>NaN</td>\n",
              "    </tr>\n",
              "    <tr>\n",
              "      <th>32_model.Linear_32</th>\n",
              "      <td>[1024, 40]</td>\n",
              "      <td>[4096, 40]</td>\n",
              "      <td>41000.0</td>\n",
              "      <td>40960.0</td>\n",
              "    </tr>\n",
              "  </tbody>\n",
              "</table>\n",
              "</div>\n",
              "      <button class=\"colab-df-convert\" onclick=\"convertToInteractive('df-862ec14b-6f6c-4188-ae5c-3ecef9502435')\"\n",
              "              title=\"Convert this dataframe to an interactive table.\"\n",
              "              style=\"display:none;\">\n",
              "        \n",
              "  <svg xmlns=\"http://www.w3.org/2000/svg\" height=\"24px\"viewBox=\"0 0 24 24\"\n",
              "       width=\"24px\">\n",
              "    <path d=\"M0 0h24v24H0V0z\" fill=\"none\"/>\n",
              "    <path d=\"M18.56 5.44l.94 2.06.94-2.06 2.06-.94-2.06-.94-.94-2.06-.94 2.06-2.06.94zm-11 1L8.5 8.5l.94-2.06 2.06-.94-2.06-.94L8.5 2.5l-.94 2.06-2.06.94zm10 10l.94 2.06.94-2.06 2.06-.94-2.06-.94-.94-2.06-.94 2.06-2.06.94z\"/><path d=\"M17.41 7.96l-1.37-1.37c-.4-.4-.92-.59-1.43-.59-.52 0-1.04.2-1.43.59L10.3 9.45l-7.72 7.72c-.78.78-.78 2.05 0 2.83L4 21.41c.39.39.9.59 1.41.59.51 0 1.02-.2 1.41-.59l7.78-7.78 2.81-2.81c.8-.78.8-2.07 0-2.86zM5.41 20L4 18.59l7.72-7.72 1.47 1.35L5.41 20z\"/>\n",
              "  </svg>\n",
              "      </button>\n",
              "      \n",
              "  <style>\n",
              "    .colab-df-container {\n",
              "      display:flex;\n",
              "      flex-wrap:wrap;\n",
              "      gap: 12px;\n",
              "    }\n",
              "\n",
              "    .colab-df-convert {\n",
              "      background-color: #E8F0FE;\n",
              "      border: none;\n",
              "      border-radius: 50%;\n",
              "      cursor: pointer;\n",
              "      display: none;\n",
              "      fill: #1967D2;\n",
              "      height: 32px;\n",
              "      padding: 0 0 0 0;\n",
              "      width: 32px;\n",
              "    }\n",
              "\n",
              "    .colab-df-convert:hover {\n",
              "      background-color: #E2EBFA;\n",
              "      box-shadow: 0px 1px 2px rgba(60, 64, 67, 0.3), 0px 1px 3px 1px rgba(60, 64, 67, 0.15);\n",
              "      fill: #174EA6;\n",
              "    }\n",
              "\n",
              "    [theme=dark] .colab-df-convert {\n",
              "      background-color: #3B4455;\n",
              "      fill: #D2E3FC;\n",
              "    }\n",
              "\n",
              "    [theme=dark] .colab-df-convert:hover {\n",
              "      background-color: #434B5C;\n",
              "      box-shadow: 0px 1px 3px 1px rgba(0, 0, 0, 0.15);\n",
              "      filter: drop-shadow(0px 1px 2px rgba(0, 0, 0, 0.3));\n",
              "      fill: #FFFFFF;\n",
              "    }\n",
              "  </style>\n",
              "\n",
              "      <script>\n",
              "        const buttonEl =\n",
              "          document.querySelector('#df-862ec14b-6f6c-4188-ae5c-3ecef9502435 button.colab-df-convert');\n",
              "        buttonEl.style.display =\n",
              "          google.colab.kernel.accessAllowed ? 'block' : 'none';\n",
              "\n",
              "        async function convertToInteractive(key) {\n",
              "          const element = document.querySelector('#df-862ec14b-6f6c-4188-ae5c-3ecef9502435');\n",
              "          const dataTable =\n",
              "            await google.colab.kernel.invokeFunction('convertToInteractive',\n",
              "                                                     [key], {});\n",
              "          if (!dataTable) return;\n",
              "\n",
              "          const docLinkHtml = 'Like what you see? Visit the ' +\n",
              "            '<a target=\"_blank\" href=https://colab.research.google.com/notebooks/data_table.ipynb>data table notebook</a>'\n",
              "            + ' to learn more about interactive tables.';\n",
              "          element.innerHTML = '';\n",
              "          dataTable['output_type'] = 'display_data';\n",
              "          await google.colab.output.renderOutput(dataTable, element);\n",
              "          const docLink = document.createElement('div');\n",
              "          docLink.innerHTML = docLinkHtml;\n",
              "          element.appendChild(docLink);\n",
              "        }\n",
              "      </script>\n",
              "    </div>\n",
              "  </div>\n",
              "  "
            ],
            "text/plain": [
              "                         Kernel Shape  Output Shape     Params  Mult-Adds\n",
              "Layer                                                                    \n",
              "0_model.Linear_0          [855, 2048]  [4096, 2048]  1753088.0  1751040.0\n",
              "1_model.BatchNorm1d_1          [2048]  [4096, 2048]     4096.0     2048.0\n",
              "2_model.GELU_2                      -  [4096, 2048]        NaN        NaN\n",
              "3_model.Dropout_3                   -  [4096, 2048]        NaN        NaN\n",
              "4_model.Linear_4         [2048, 2048]  [4096, 2048]  4196352.0  4194304.0\n",
              "5_model.BatchNorm1d_5          [2048]  [4096, 2048]     4096.0     2048.0\n",
              "6_model.GELU_6                      -  [4096, 2048]        NaN        NaN\n",
              "7_model.Dropout_7                   -  [4096, 2048]        NaN        NaN\n",
              "8_model.Linear_8         [2048, 2048]  [4096, 2048]  4196352.0  4194304.0\n",
              "9_model.BatchNorm1d_9          [2048]  [4096, 2048]     4096.0     2048.0\n",
              "10_model.GELU_10                    -  [4096, 2048]        NaN        NaN\n",
              "11_model.Dropout_11                 -  [4096, 2048]        NaN        NaN\n",
              "12_model.Linear_12       [2048, 2048]  [4096, 2048]  4196352.0  4194304.0\n",
              "13_model.BatchNorm1d_13        [2048]  [4096, 2048]     4096.0     2048.0\n",
              "14_model.GELU_14                    -  [4096, 2048]        NaN        NaN\n",
              "15_model.Dropout_15                 -  [4096, 2048]        NaN        NaN\n",
              "16_model.Linear_16       [2048, 1024]  [4096, 1024]  2098176.0  2097152.0\n",
              "17_model.BatchNorm1d_17        [1024]  [4096, 1024]     2048.0     1024.0\n",
              "18_model.GELU_18                    -  [4096, 1024]        NaN        NaN\n",
              "19_model.Dropout_19                 -  [4096, 1024]        NaN        NaN\n",
              "20_model.Linear_20       [1024, 1024]  [4096, 1024]  1049600.0  1048576.0\n",
              "21_model.BatchNorm1d_21        [1024]  [4096, 1024]     2048.0     1024.0\n",
              "22_model.GELU_22                    -  [4096, 1024]        NaN        NaN\n",
              "23_model.Dropout_23                 -  [4096, 1024]        NaN        NaN\n",
              "24_model.Linear_24       [1024, 1024]  [4096, 1024]  1049600.0  1048576.0\n",
              "25_model.BatchNorm1d_25        [1024]  [4096, 1024]     2048.0     1024.0\n",
              "26_model.GELU_26                    -  [4096, 1024]        NaN        NaN\n",
              "27_model.Dropout_27                 -  [4096, 1024]        NaN        NaN\n",
              "28_model.Linear_28       [1024, 1024]  [4096, 1024]  1049600.0  1048576.0\n",
              "29_model.BatchNorm1d_29        [1024]  [4096, 1024]     2048.0     1024.0\n",
              "30_model.GELU_30                    -  [4096, 1024]        NaN        NaN\n",
              "31_model.Dropout_31                 -  [4096, 1024]        NaN        NaN\n",
              "32_model.Linear_32         [1024, 40]    [4096, 40]    41000.0    40960.0"
            ]
          },
          "execution_count": 14,
          "metadata": {},
          "output_type": "execute_result"
        }
      ],
      "source": [
        "input_size = 15*(2*config['context'] + 1)\n",
        "model = Network(config['context']).to(device)\n",
        "frames,phoneme = next(iter(train_loader))\n",
        "summary(model, frames.to(device))"
      ]
    },
    {
      "cell_type": "code",
      "execution_count": null,
      "metadata": {
        "id": "UROGEVJevKD-"
      },
      "outputs": [],
      "source": [
        "criterion = torch.nn.CrossEntropyLoss() #Defining Loss function \n",
        "optimizer = torch.optim.AdamW(model.parameters(), lr=config['learning_rate'], weight_decay=0.01,) #Defining Optimizer\n",
        "scheduler = torch.optim.lr_scheduler.StepLR(optimizer, step_size=10, gamma=0.55)\n"
      ]
    },
    {
      "cell_type": "markdown",
      "metadata": {
        "id": "IBwunYpyugFg"
      },
      "source": [
        "# Training and Validation Functions"
      ]
    },
    {
      "cell_type": "markdown",
      "metadata": {
        "id": "1JgeNhx4x2-P"
      },
      "source": [
        "This section covers the training, and validation functions for each epoch of running your experiment with a given model architecture. The code has been provided to you, but we recommend going through the comments to understand the workflow to enable you to write these loops for future HWs."
      ]
    },
    {
      "cell_type": "code",
      "execution_count": null,
      "metadata": {
        "colab": {
          "base_uri": "https://localhost:8080/"
        },
        "id": "XblOHEVtKab2",
        "outputId": "8224a5e6-8ea0-4132-c464-2fba17149621"
      },
      "outputs": [
        {
          "data": {
            "text/plain": [
              "116"
            ]
          },
          "execution_count": 16,
          "metadata": {},
          "output_type": "execute_result"
        }
      ],
      "source": [
        "torch.cuda.empty_cache()\n",
        "gc.collect()"
      ]
    },
    {
      "cell_type": "code",
      "execution_count": null,
      "metadata": {
        "id": "8wjPz7DHqKcL"
      },
      "outputs": [],
      "source": [
        "scaler = amp.GradScaler()\n",
        "def train(model, optimizer, criterion, dataloader):\n",
        "    model.train()\n",
        "    train_loss = 0.0 #Monitoring Loss\n",
        "    for iter, (mfccs, phonemes) in enumerate(dataloader):\n",
        "        ### Move Data to Device (Ideally GPU)\n",
        "        mfccs = mfccs.to(device)\n",
        "        phonemes = phonemes.to(device)\n",
        "        with amp.autocast():\n",
        "        ### Forward Propagation\n",
        "          logits = model(mfccs)\n",
        "        ### Loss Calculation\n",
        "          loss = criterion(logits, phonemes)\n",
        "        train_loss += loss.item()\n",
        "        ### Initialize Gradients\n",
        "        optimizer.zero_grad()\n",
        "        ### Backward Propagation\n",
        "        scaler.scale(loss).backward()\n",
        "        ### Gradient Descent\n",
        "        scaler.step(optimizer)\n",
        "        # optimizer.step()\n",
        "        scaler.update()\n",
        "\n",
        "    train_loss /= len(dataloader)\n",
        "    return train_loss"
      ]
    },
    {
      "cell_type": "code",
      "execution_count": null,
      "metadata": {
        "id": "Q5npQNFH315V"
      },
      "outputs": [],
      "source": [
        "def eval(model, dataloader):\n",
        "    model.eval() # set model in evaluation mode\n",
        "    phone_true_list = []\n",
        "    phone_pred_list = []\n",
        "    for i, data in enumerate(dataloader):\n",
        "        frames, phonemes = data\n",
        "        ### Move data to device (ideally GPU)\n",
        "        frames, phonemes = frames.to(device), phonemes.to(device) \n",
        "        with torch.inference_mode(): # makes sure that there are no gradients computed as we are not training the model now\n",
        "            ### Forward Propagation\n",
        "            logits = model(frames)\n",
        "        ### Get Predictions\n",
        "        predicted_phonemes = torch.argmax(logits, dim=1)\n",
        "        ### Store Pred and True Labels\n",
        "        phone_pred_list.extend(predicted_phonemes.cpu().tolist())\n",
        "        phone_true_list.extend(phonemes.cpu().tolist())\n",
        "        # Do you think we need loss.backward() and optimizer.step() here?\n",
        "        del frames, phonemes, logits\n",
        "        torch.cuda.empty_cache()\n",
        "\n",
        "    ### Calculate Accuracy\n",
        "    accuracy = sklearn.metrics.accuracy_score(phone_pred_list, phone_true_list) \n",
        "    return accuracy*100"
      ]
    },
    {
      "cell_type": "markdown",
      "metadata": {
        "id": "yMd_XxPku5qp"
      },
      "source": [
        "# Weights and Biases Setup"
      ]
    },
    {
      "cell_type": "markdown",
      "metadata": {
        "id": "tjIbhR1wwbgI"
      },
      "source": [
        "This section is to enable logging metrics and files with Weights and Biases. Please refer to wandb documentationa and recitation 0 that covers the use of weights and biases for logging, hyperparameter tuning and monitoring your runs for your homeworks. Using this tool makes it very easy to show results when submitting your code and models for homeworks, and also extremely useful for study groups to organize and run ablations under a single team in wandb. \n",
        "\n",
        "We have written code for you to make use of it out of the box, so that you start using wandb for all your HWs from the beginning."
      ]
    },
    {
      "cell_type": "code",
      "execution_count": null,
      "metadata": {
        "colab": {
          "base_uri": "https://localhost:8080/"
        },
        "id": "SCDYx5VEu6qI",
        "outputId": "42438c0f-e1a4-44f7-8648-8705a39eb4ac"
      },
      "outputs": [
        {
          "name": "stderr",
          "output_type": "stream",
          "text": [
            "ERROR:wandb.jupyter:Failed to detect the name of this notebook, you can set it manually with the WANDB_NOTEBOOK_NAME environment variable to enable code saving.\n",
            "\u001b[34m\u001b[1mwandb\u001b[0m: W&B API key is configured. Use \u001b[1m`wandb login --relogin`\u001b[0m to force relogin\n",
            "\u001b[34m\u001b[1mwandb\u001b[0m: \u001b[33mWARNING\u001b[0m If you're specifying your api key in code, ensure this code is not shared publicly.\n",
            "\u001b[34m\u001b[1mwandb\u001b[0m: \u001b[33mWARNING\u001b[0m Consider setting the WANDB_API_KEY environment variable, or running `wandb login` from the command line.\n",
            "\u001b[34m\u001b[1mwandb\u001b[0m: Appending key for api.wandb.ai to your netrc file: /root/.netrc\n"
          ]
        },
        {
          "data": {
            "text/plain": [
              "True"
            ]
          },
          "execution_count": 19,
          "metadata": {},
          "output_type": "execute_result"
        }
      ],
      "source": [
        "wandb.login(key=\"<>\") #API Key is in your wandb account, under settings (wandb.ai/settings)"
      ]
    },
    {
      "cell_type": "code",
      "execution_count": null,
      "metadata": {
        "colab": {
          "base_uri": "https://localhost:8080/",
          "height": 87
        },
        "id": "xvUnYd3Bw2up",
        "outputId": "e7db652b-e69a-4ca7-d546-e88f2e544aa8"
      },
      "outputs": [
        {
          "name": "stderr",
          "output_type": "stream",
          "text": [
            "\u001b[34m\u001b[1mwandb\u001b[0m: Currently logged in as: \u001b[33mbevani\u001b[0m. Use \u001b[1m`wandb login --relogin`\u001b[0m to force relogin\n"
          ]
        },
        {
          "data": {
            "text/html": [
              "Tracking run with wandb version 0.13.3"
            ],
            "text/plain": [
              "<IPython.core.display.HTML object>"
            ]
          },
          "metadata": {},
          "output_type": "display_data"
        },
        {
          "data": {
            "text/html": [
              "Run data is saved locally in <code>/content/wandb/run-20220928_141629-1nlh40dg</code>"
            ],
            "text/plain": [
              "<IPython.core.display.HTML object>"
            ]
          },
          "metadata": {},
          "output_type": "display_data"
        },
        {
          "data": {
            "text/html": [
              "Syncing run <strong><a href=\"https://wandb.ai/bevani/hw1p2/runs/1nlh40dg\" target=\"_blank\">high-cutoff-run-try33</a></strong> to <a href=\"https://wandb.ai/bevani/hw1p2\" target=\"_blank\">Weights & Biases</a> (<a href=\"https://wandb.me/run\" target=\"_blank\">docs</a>)<br/>"
            ],
            "text/plain": [
              "<IPython.core.display.HTML object>"
            ]
          },
          "metadata": {},
          "output_type": "display_data"
        }
      ],
      "source": [
        "# Create your wandb run\n",
        "run_name = \"high-cutoff-run-try33\"\n",
        "run = wandb.init(\n",
        "    name = run_name, ### Wandb creates random run names if you skip this field, we recommend you give useful names\n",
        "    reinit=True, ### Allows reinitalizing runs when you re-run this cell\n",
        "    project=\"hw1p2\", ### Project should be created in your wandb account \n",
        "    config=config ### Wandb Config for your run\n",
        ")"
      ]
    },
    {
      "cell_type": "code",
      "execution_count": null,
      "metadata": {
        "colab": {
          "base_uri": "https://localhost:8080/"
        },
        "id": "wft15E_IxYFi",
        "outputId": "5fc731fb-2737-4bde-8edc-633bedf0f8d3"
      },
      "outputs": [
        {
          "data": {
            "text/plain": [
              "['/content/wandb/run-20220928_141629-1nlh40dg/files/high-cutoff-run-try33.txt']"
            ]
          },
          "execution_count": 21,
          "metadata": {},
          "output_type": "execute_result"
        }
      ],
      "source": [
        "### Save your model architecture as a string with str(model) \n",
        "model_arch = str(model)\n",
        "\n",
        "### Save it in a txt file \n",
        "arch_file = open(f\"{run_name}.txt\", \"w\")\n",
        "file_write = arch_file.write(model_arch)\n",
        "arch_file.close()\n",
        "\n",
        "### log it in your wandb run with wandb.save()\n",
        "wandb.save(f\"{run_name}.txt\")"
      ]
    },
    {
      "cell_type": "markdown",
      "metadata": {
        "id": "nclx_04fu7Dd"
      },
      "source": [
        "# Experiment"
      ]
    },
    {
      "cell_type": "markdown",
      "metadata": {
        "id": "MdLMWfEpyGOB"
      },
      "source": [
        "Now, it is time to finally run your ablations! Have fun!"
      ]
    },
    {
      "cell_type": "code",
      "execution_count": 22,
      "metadata": {
        "colab": {
          "base_uri": "https://localhost:8080/",
          "height": 1000
        },
        "id": "MG4F77Nm0Am9",
        "outputId": "06e7d1e8-dad4-442a-8701-6acba9d83e5f"
      },
      "outputs": [
        {
          "name": "stdout",
          "output_type": "stream",
          "text": [
            "\n",
            "Epoch 1/70\n",
            "\tTrain Loss: 0.7265\n",
            "\tValidation Accuracy: 81.95%\n",
            "\n",
            "Epoch 2/70\n",
            "\tTrain Loss: 0.5422\n",
            "\tValidation Accuracy: 83.85%\n",
            "\n",
            "Epoch 3/70\n",
            "\tTrain Loss: 0.4933\n",
            "\tValidation Accuracy: 84.73%\n",
            "\n",
            "Epoch 4/70\n",
            "\tTrain Loss: 0.4665\n",
            "\tValidation Accuracy: 85.14%\n",
            "\n",
            "Epoch 5/70\n",
            "\tTrain Loss: 0.4486\n",
            "\tValidation Accuracy: 85.50%\n",
            "\n",
            "Epoch 6/70\n",
            "\tTrain Loss: 0.4359\n",
            "\tValidation Accuracy: 85.69%\n",
            "\n",
            "Epoch 7/70\n",
            "\tTrain Loss: 0.4259\n",
            "\tValidation Accuracy: 85.91%\n",
            "\n",
            "Epoch 8/70\n",
            "\tTrain Loss: 0.4180\n",
            "\tValidation Accuracy: 86.07%\n",
            "\n",
            "Epoch 9/70\n",
            "\tTrain Loss: 0.4116\n",
            "\tValidation Accuracy: 86.12%\n",
            "\n",
            "Epoch 10/70\n",
            "\tTrain Loss: 0.4063\n",
            "\tValidation Accuracy: 86.26%\n",
            "\n",
            "Epoch 11/70\n",
            "\tTrain Loss: 0.3827\n",
            "\tValidation Accuracy: 86.65%\n",
            "\n",
            "Epoch 12/70\n",
            "\tTrain Loss: 0.3752\n",
            "\tValidation Accuracy: 86.73%\n",
            "\n",
            "Epoch 13/70\n",
            "\tTrain Loss: 0.3713\n",
            "\tValidation Accuracy: 86.77%\n",
            "\n",
            "Epoch 14/70\n",
            "\tTrain Loss: 0.3686\n",
            "\tValidation Accuracy: 86.79%\n",
            "\n",
            "Epoch 15/70\n",
            "\tTrain Loss: 0.3666\n",
            "\tValidation Accuracy: 86.80%\n",
            "\n",
            "Epoch 16/70\n",
            "\tTrain Loss: 0.3647\n",
            "\tValidation Accuracy: 86.85%\n",
            "\n",
            "Epoch 17/70\n",
            "\tTrain Loss: 0.3634\n",
            "\tValidation Accuracy: 86.84%\n",
            "\n",
            "Epoch 18/70\n",
            "\tTrain Loss: 0.3620\n",
            "\tValidation Accuracy: 86.92%\n",
            "\n",
            "Epoch 19/70\n",
            "\tTrain Loss: 0.3608\n",
            "\tValidation Accuracy: 86.97%\n",
            "\n",
            "Epoch 20/70\n",
            "\tTrain Loss: 0.3597\n",
            "\tValidation Accuracy: 86.91%\n",
            "\n",
            "Epoch 21/70\n",
            "\tTrain Loss: 0.3461\n",
            "\tValidation Accuracy: 87.16%\n",
            "\n",
            "Epoch 22/70\n",
            "\tTrain Loss: 0.3417\n",
            "\tValidation Accuracy: 87.19%\n",
            "\n",
            "Epoch 23/70\n",
            "\tTrain Loss: 0.3398\n",
            "\tValidation Accuracy: 87.22%\n",
            "\n",
            "Epoch 24/70\n",
            "\tTrain Loss: 0.3383\n",
            "\tValidation Accuracy: 87.21%\n",
            "\n",
            "Epoch 25/70\n",
            "\tTrain Loss: 0.3373\n",
            "\tValidation Accuracy: 87.24%\n",
            "\n",
            "Epoch 26/70\n",
            "\tTrain Loss: 0.3364\n",
            "\tValidation Accuracy: 87.25%\n",
            "\n",
            "Epoch 27/70\n",
            "\tTrain Loss: 0.3356\n",
            "\tValidation Accuracy: 87.24%\n",
            "\n",
            "Epoch 28/70\n",
            "\tTrain Loss: 0.3350\n",
            "\tValidation Accuracy: 87.27%\n",
            "\n",
            "Epoch 29/70\n",
            "\tTrain Loss: 0.3343\n",
            "\tValidation Accuracy: 87.27%\n",
            "\n",
            "Epoch 30/70\n",
            "\tTrain Loss: 0.3339\n",
            "\tValidation Accuracy: 87.29%\n",
            "\n",
            "Epoch 31/70\n",
            "\tTrain Loss: 0.3256\n",
            "\tValidation Accuracy: 87.41%\n",
            "\n",
            "Epoch 32/70\n",
            "\tTrain Loss: 0.3228\n",
            "\tValidation Accuracy: 87.43%\n",
            "\n",
            "Epoch 33/70\n",
            "\tTrain Loss: 0.3216\n",
            "\tValidation Accuracy: 87.43%\n",
            "\n",
            "Epoch 34/70\n",
            "\tTrain Loss: 0.3206\n",
            "\tValidation Accuracy: 87.44%\n",
            "\n",
            "Epoch 35/70\n",
            "\tTrain Loss: 0.3200\n",
            "\tValidation Accuracy: 87.44%\n",
            "\n",
            "Epoch 36/70\n",
            "\tTrain Loss: 0.3193\n",
            "\tValidation Accuracy: 87.46%\n",
            "\n",
            "Epoch 37/70\n",
            "\tTrain Loss: 0.3187\n",
            "\tValidation Accuracy: 87.46%\n",
            "\n",
            "Epoch 38/70\n",
            "\tTrain Loss: 0.3182\n",
            "\tValidation Accuracy: 87.43%\n",
            "\n",
            "Epoch 39/70\n",
            "\tTrain Loss: 0.3177\n",
            "\tValidation Accuracy: 87.47%\n",
            "\n",
            "Epoch 40/70\n",
            "\tTrain Loss: 0.3174\n",
            "\tValidation Accuracy: 87.47%\n",
            "\n",
            "Epoch 41/70\n",
            "\tTrain Loss: 0.3125\n",
            "\tValidation Accuracy: 87.55%\n",
            "\n",
            "Epoch 42/70\n",
            "\tTrain Loss: 0.3109\n",
            "\tValidation Accuracy: 87.55%\n",
            "\n",
            "Epoch 43/70\n",
            "\tTrain Loss: 0.3099\n",
            "\tValidation Accuracy: 87.55%\n",
            "\n",
            "Epoch 44/70\n",
            "\tTrain Loss: 0.3094\n",
            "\tValidation Accuracy: 87.56%\n",
            "\n",
            "Epoch 45/70\n",
            "\tTrain Loss: 0.3087\n",
            "\tValidation Accuracy: 87.55%\n",
            "\n",
            "Epoch 46/70\n",
            "\tTrain Loss: 0.3084\n",
            "\tValidation Accuracy: 87.58%\n",
            "\n",
            "Epoch 47/70\n",
            "\tTrain Loss: 0.3079\n",
            "\tValidation Accuracy: 87.58%\n",
            "\n",
            "Epoch 48/70\n",
            "\tTrain Loss: 0.3076\n",
            "\tValidation Accuracy: 87.57%\n",
            "\n",
            "Epoch 49/70\n",
            "\tTrain Loss: 0.3073\n",
            "\tValidation Accuracy: 87.57%\n",
            "\n",
            "Epoch 50/70\n",
            "\tTrain Loss: 0.3068\n",
            "\tValidation Accuracy: 87.58%\n",
            "\n",
            "Epoch 51/70\n",
            "\tTrain Loss: 0.3042\n",
            "\tValidation Accuracy: 87.62%\n",
            "\n",
            "Epoch 52/70\n",
            "\tTrain Loss: 0.3033\n",
            "\tValidation Accuracy: 87.63%\n",
            "\n",
            "Epoch 53/70\n",
            "\tTrain Loss: 0.3028\n",
            "\tValidation Accuracy: 87.63%\n",
            "\n",
            "Epoch 54/70\n",
            "\tTrain Loss: 0.3022\n",
            "\tValidation Accuracy: 87.62%\n",
            "\n",
            "Epoch 55/70\n",
            "\tTrain Loss: 0.3019\n",
            "\tValidation Accuracy: 87.64%\n",
            "\n",
            "Epoch 56/70\n",
            "\tTrain Loss: 0.3017\n",
            "\tValidation Accuracy: 87.64%\n",
            "\n",
            "Epoch 57/70\n"
          ]
        },
        {
          "ename": "KeyboardInterrupt",
          "evalue": "ignored",
          "output_type": "error",
          "traceback": [
            "\u001b[0;31m---------------------------------------------------------------------------\u001b[0m",
            "\u001b[0;31mKeyboardInterrupt\u001b[0m                         Traceback (most recent call last)",
            "\u001b[0;32m<ipython-input-22-da9cec7d1b99>\u001b[0m in \u001b[0;36m<module>\u001b[0;34m\u001b[0m\n\u001b[1;32m      6\u001b[0m     \u001b[0mprint\u001b[0m\u001b[0;34m(\u001b[0m\u001b[0;34m\"\\nEpoch {}/{}\"\u001b[0m\u001b[0;34m.\u001b[0m\u001b[0mformat\u001b[0m\u001b[0;34m(\u001b[0m\u001b[0mepoch\u001b[0m\u001b[0;34m+\u001b[0m\u001b[0;36m1\u001b[0m\u001b[0;34m,\u001b[0m \u001b[0mconfig\u001b[0m\u001b[0;34m[\u001b[0m\u001b[0;34m'epochs'\u001b[0m\u001b[0;34m]\u001b[0m\u001b[0;34m)\u001b[0m\u001b[0;34m)\u001b[0m\u001b[0;34m\u001b[0m\u001b[0;34m\u001b[0m\u001b[0m\n\u001b[1;32m      7\u001b[0m     \u001b[0mtrain_loss\u001b[0m \u001b[0;34m=\u001b[0m \u001b[0mtrain\u001b[0m\u001b[0;34m(\u001b[0m\u001b[0mmodel\u001b[0m\u001b[0;34m,\u001b[0m \u001b[0moptimizer\u001b[0m\u001b[0;34m,\u001b[0m \u001b[0mcriterion\u001b[0m\u001b[0;34m,\u001b[0m \u001b[0mtrain_loader\u001b[0m\u001b[0;34m)\u001b[0m\u001b[0;34m\u001b[0m\u001b[0;34m\u001b[0m\u001b[0m\n\u001b[0;32m----> 8\u001b[0;31m     \u001b[0maccuracy\u001b[0m \u001b[0;34m=\u001b[0m \u001b[0meval\u001b[0m\u001b[0;34m(\u001b[0m\u001b[0mmodel\u001b[0m\u001b[0;34m,\u001b[0m \u001b[0mval_loader\u001b[0m\u001b[0;34m)\u001b[0m\u001b[0;34m\u001b[0m\u001b[0;34m\u001b[0m\u001b[0m\n\u001b[0m\u001b[1;32m      9\u001b[0m     \u001b[0mprint\u001b[0m\u001b[0;34m(\u001b[0m\u001b[0;34m\"\\tTrain Loss: {:.4f}\"\u001b[0m\u001b[0;34m.\u001b[0m\u001b[0mformat\u001b[0m\u001b[0;34m(\u001b[0m\u001b[0mtrain_loss\u001b[0m\u001b[0;34m)\u001b[0m\u001b[0;34m)\u001b[0m\u001b[0;34m\u001b[0m\u001b[0;34m\u001b[0m\u001b[0m\n\u001b[1;32m     10\u001b[0m     \u001b[0mprint\u001b[0m\u001b[0;34m(\u001b[0m\u001b[0;34m\"\\tValidation Accuracy: {:.2f}%\"\u001b[0m\u001b[0;34m.\u001b[0m\u001b[0mformat\u001b[0m\u001b[0;34m(\u001b[0m\u001b[0maccuracy\u001b[0m\u001b[0;34m)\u001b[0m\u001b[0;34m)\u001b[0m\u001b[0;34m\u001b[0m\u001b[0;34m\u001b[0m\u001b[0m\n",
            "\u001b[0;32m<ipython-input-18-d3a7767fab80>\u001b[0m in \u001b[0;36meval\u001b[0;34m(model, dataloader)\u001b[0m\n\u001b[1;32m     13\u001b[0m         \u001b[0mpredicted_phonemes\u001b[0m \u001b[0;34m=\u001b[0m \u001b[0mtorch\u001b[0m\u001b[0;34m.\u001b[0m\u001b[0margmax\u001b[0m\u001b[0;34m(\u001b[0m\u001b[0mlogits\u001b[0m\u001b[0;34m,\u001b[0m \u001b[0mdim\u001b[0m\u001b[0;34m=\u001b[0m\u001b[0;36m1\u001b[0m\u001b[0;34m)\u001b[0m\u001b[0;34m\u001b[0m\u001b[0;34m\u001b[0m\u001b[0m\n\u001b[1;32m     14\u001b[0m         \u001b[0;31m### Store Pred and True Labels\u001b[0m\u001b[0;34m\u001b[0m\u001b[0;34m\u001b[0m\u001b[0;34m\u001b[0m\u001b[0m\n\u001b[0;32m---> 15\u001b[0;31m         \u001b[0mphone_pred_list\u001b[0m\u001b[0;34m.\u001b[0m\u001b[0mextend\u001b[0m\u001b[0;34m(\u001b[0m\u001b[0mpredicted_phonemes\u001b[0m\u001b[0;34m.\u001b[0m\u001b[0mcpu\u001b[0m\u001b[0;34m(\u001b[0m\u001b[0;34m)\u001b[0m\u001b[0;34m.\u001b[0m\u001b[0mtolist\u001b[0m\u001b[0;34m(\u001b[0m\u001b[0;34m)\u001b[0m\u001b[0;34m)\u001b[0m\u001b[0;34m\u001b[0m\u001b[0;34m\u001b[0m\u001b[0m\n\u001b[0m\u001b[1;32m     16\u001b[0m         \u001b[0mphone_true_list\u001b[0m\u001b[0;34m.\u001b[0m\u001b[0mextend\u001b[0m\u001b[0;34m(\u001b[0m\u001b[0mphonemes\u001b[0m\u001b[0;34m.\u001b[0m\u001b[0mcpu\u001b[0m\u001b[0;34m(\u001b[0m\u001b[0;34m)\u001b[0m\u001b[0;34m.\u001b[0m\u001b[0mtolist\u001b[0m\u001b[0;34m(\u001b[0m\u001b[0;34m)\u001b[0m\u001b[0;34m)\u001b[0m\u001b[0;34m\u001b[0m\u001b[0;34m\u001b[0m\u001b[0m\n\u001b[1;32m     17\u001b[0m         \u001b[0;31m# Do you think we need loss.backward() and optimizer.step() here?\u001b[0m\u001b[0;34m\u001b[0m\u001b[0;34m\u001b[0m\u001b[0;34m\u001b[0m\u001b[0m\n",
            "\u001b[0;31mKeyboardInterrupt\u001b[0m: "
          ]
        }
      ],
      "source": [
        "# Iterate over number of epochs to train and evaluate your model\n",
        "torch.cuda.empty_cache()\n",
        "best_acc = 0.0 ### Monitor best accuracy in your run\n",
        "\n",
        "for epoch in range(config['epochs']):\n",
        "    print(\"\\nEpoch {}/{}\".format(epoch+1, config['epochs']))\n",
        "    train_loss = train(model, optimizer, criterion, train_loader)\n",
        "    accuracy = eval(model, val_loader)\n",
        "    print(\"\\tTrain Loss: {:.4f}\".format(train_loss))\n",
        "    print(\"\\tValidation Accuracy: {:.2f}%\".format(accuracy))\n",
        "    ### Log metrics at each epoch in your run - Optionally, you can log at each batch inside train/eval functions (explore wandb documentation/wandb recitation)\n",
        "    wandb.log({\"train loss\": train_loss, \"validation accuracy\": accuracy, \"lr\": optimizer.param_groups[0]['lr']})\n",
        "    ### Save checkpoint if accuracy is better than your current best\n",
        "    if accuracy > best_acc:\n",
        "      ### Save checkpoint with information you want\n",
        "      best_acc = accuracy\n",
        "      torch.save({'epoch': epoch,\n",
        "              'model_state_dict': model.state_dict(),\n",
        "              'optimizer_state_dict': optimizer.state_dict(),\n",
        "              'loss': train_loss,\n",
        "              'acc': accuracy}, \n",
        "        './model_checkpoint.pth')\n",
        "      ### Save checkpoint in wandb\n",
        "      wandb.save('checkpoint.pth')\n",
        "    # Is your training time very high? Look into mixed precision training if your GPU (Tesla T4, V100, etc) can make use of it \n",
        "    # Refer - https://pytorch.org/docs/stable/notes/amp_examples.html\n",
        "    scheduler.step()\n",
        "\n",
        "### Finish your wandb run\n",
        "run.finish()"
      ]
    },
    {
      "cell_type": "markdown",
      "metadata": {
        "id": "_kXwf5YUo_4A"
      },
      "source": [
        "# Testing and submission to Kaggle"
      ]
    },
    {
      "cell_type": "markdown",
      "metadata": {
        "id": "WI1hSFYLpJvH"
      },
      "source": [
        "Before we get to the following code, make sure to see the format of submission given in *random_submission.csv*. Once you have done so, it is time to fill the following function to complete your inference on test data. Refer the eval function from previous cells to get an idea of how to go about completing this function."
      ]
    },
    {
      "cell_type": "code",
      "execution_count": 23,
      "metadata": {
        "id": "R-SU9fZ3xHtk"
      },
      "outputs": [],
      "source": [
        "def test(model, test_loader):\n",
        "  ### What you call for model to perform inference?\n",
        "  model.eval()\n",
        "  ### List to store predicted phonemes of test data\n",
        "  test_predictions = []\n",
        "  ### Which mode do you need to avoid gradients?\n",
        "  with torch.inference_mode():\n",
        "      for i, frames in enumerate(tqdm(test_loader)):\n",
        "          frames = frames.float().to(device)             \n",
        "          output = model(frames)\n",
        "          ### Get most likely predicted phoneme with argmax\n",
        "          predicted_phonemes = torch.argmax(output, dim=1)\n",
        "          ### How do you store predicted_phonemes with test_predictions? Hint, look at eval\n",
        "          test_predictions.extend(predicted_phonemes.cpu().tolist())\n",
        "  return test_predictions"
      ]
    },
    {
      "cell_type": "code",
      "execution_count": 24,
      "metadata": {
        "colab": {
          "base_uri": "https://localhost:8080/"
        },
        "id": "wG9v6Xmxu7wp",
        "outputId": "0bab0864-ae9a-4404-899c-07c147db0e38"
      },
      "outputs": [
        {
          "name": "stderr",
          "output_type": "stream",
          "text": [
            "100%|██████████| 475/475 [00:21<00:00, 21.75it/s]\n"
          ]
        }
      ],
      "source": [
        "model = Network(config['context']).to(device)\n",
        "model_state_dict_path = torch.load(\"./model_checkpoint.pth\")\n",
        "model.load_state_dict(model_state_dict_path[\"model_state_dict\"])\n",
        "\n",
        "predictions = test(model, test_loader)"
      ]
    },
    {
      "cell_type": "code",
      "execution_count": 25,
      "metadata": {
        "id": "ZE1hRnvf0bFz"
      },
      "outputs": [],
      "source": [
        "### Create CSV file with predictions\n",
        "with open(\"./submission.csv\", \"w+\") as f:\n",
        "    f.write(\"id,label\\n\")\n",
        "    for i in range(len(predictions)):\n",
        "        f.write(\"{},{}\\n\".format(i, predictions[i]))"
      ]
    },
    {
      "cell_type": "code",
      "execution_count": 26,
      "metadata": {
        "colab": {
          "base_uri": "https://localhost:8080/"
        },
        "id": "LjcammuCxMKN",
        "outputId": "8d9e340a-8c2d-41f3-f2ca-7db1e5f59ab0"
      },
      "outputs": [
        {
          "name": "stdout",
          "output_type": "stream",
          "text": [
            "Warning: Looks like you're using an outdated API Version, please consider updating (server 1.5.12 / client 1.5.8)\n",
            "100% 18.6M/18.6M [00:02<00:00, 9.53MB/s]\n",
            "Successfully submitted to Frame-Level Speech Recognition"
          ]
        }
      ],
      "source": [
        "### Submit to kaggle competition using kaggle API\n",
        "!kaggle competitions submit -c 11-785-f22-hw1p2 -f ./submission.csv -m \"sixteenth submission\""
      ]
    }
  ],
  "metadata": {
    "accelerator": "GPU",
    "colab": {
      "collapsed_sections": [],
      "machine_shape": "hm",
      "provenance": []
    },
    "gpuClass": "standard",
    "kernelspec": {
      "display_name": "Python 3.8.10 64-bit",
      "language": "python",
      "name": "python3"
    },
    "language_info": {
      "codemirror_mode": {
        "name": "ipython",
        "version": 3
      },
      "file_extension": ".py",
      "mimetype": "text/x-python",
      "name": "python",
      "nbconvert_exporter": "python",
      "pygments_lexer": "ipython3",
      "version": "3.8.10"
    },
    "vscode": {
      "interpreter": {
        "hash": "aee8b7b246df8f9039afb4144a1f6fd8d2ca17a180786b69acc140d282b71a49"
      }
    }
  },
  "nbformat": 4,
  "nbformat_minor": 0
}
